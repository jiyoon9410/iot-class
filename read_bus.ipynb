{
  "nbformat": 4,
  "nbformat_minor": 0,
  "metadata": {
    "colab": {
      "provenance": [],
      "authorship_tag": "ABX9TyM3lNTxypJvb7OKB+G4IGLV",
      "include_colab_link": true
    },
    "kernelspec": {
      "name": "python3",
      "display_name": "Python 3"
    },
    "language_info": {
      "name": "python"
    }
  },
  "cells": [
    {
      "cell_type": "markdown",
      "metadata": {
        "id": "view-in-github",
        "colab_type": "text"
      },
      "source": [
        "<a href=\"https://colab.research.google.com/github/jiyoon9410/iot-class/blob/main/read_bus.ipynb\" target=\"_parent\"><img src=\"https://colab.research.google.com/assets/colab-badge.svg\" alt=\"Open In Colab\"/></a>"
      ]
    },
    {
      "cell_type": "code",
      "execution_count": null,
      "metadata": {
        "id": "14812YZO5Uf-",
        "colab": {
          "base_uri": "https://localhost:8080/"
        },
        "outputId": "74e32b15-5afb-4468-cf74-4d88de9fc4cd"
      },
      "outputs": [
        {
          "output_type": "stream",
          "name": "stdout",
          "text": [
            "<?xml version=\"1.0\" encoding=\"UTF-8\" standalone=\"yes\"?><response><comMsgHeader/><msgHeader><queryTime>2024-03-17 22:18:19.716</queryTime><resultCode>0</resultCode><resultMessage>정상적으로 처리되었습니다.</resultMessage></msgHeader><msgBody><busLocationList><endBus>0</endBus><lowPlate>0</lowPlate><plateNo>경기73아2644</plateNo><plateType>3</plateType><remainSeatCnt>35</remainSeatCnt><routeId>218000105</routeId><stationId>219000124</stationId><stationSeq>47</stationSeq></busLocationList><busLocationList><endBus>0</endBus><lowPlate>0</lowPlate><plateNo>경기73아3683</plateNo><plateType>3</plateType><remainSeatCnt>31</remainSeatCnt><routeId>218000105</routeId><stationId>277103428</stationId><stationSeq>15</stationSeq></busLocationList><busLocationList><endBus>0</endBus><lowPlate>0</lowPlate><plateNo>경기73아2648</plateNo><plateType>3</plateType><remainSeatCnt>42</remainSeatCnt><routeId>218000105</routeId><stationId>113000199</stationId><stationSeq>27</stationSeq></busLocationList><busLocationList><endBus>0</endBus><lowPlate>0</lowPlate><plateNo>경기73아3685</plateNo><plateType>3</plateType><remainSeatCnt>36</remainSeatCnt><routeId>218000105</routeId><stationId>219000193</stationId><stationSeq>6</stationSeq></busLocationList><busLocationList><endBus>0</endBus><lowPlate>0</lowPlate><plateNo>경기73아2647</plateNo><plateType>3</plateType><remainSeatCnt>23</remainSeatCnt><routeId>218000105</routeId><stationId>113000416</stationId><stationSeq>29</stationSeq></busLocationList><busLocationList><endBus>0</endBus><lowPlate>0</lowPlate><plateNo>경기73아2645</plateNo><plateType>3</plateType><remainSeatCnt>7</remainSeatCnt><routeId>218000105</routeId><stationId>277103461</stationId><stationSeq>42</stationSeq></busLocationList><busLocationList><endBus>0</endBus><lowPlate>0</lowPlate><plateNo>경기73아3686</plateNo><plateType>3</plateType><remainSeatCnt>43</remainSeatCnt><routeId>218000105</routeId><stationId>219000667</stationId><stationSeq>1</stationSeq></busLocationList><busLocationList><endBus>0</endBus><lowPlate>0</lowPlate><plateNo>경기73아3682</plateNo><plateType>3</plateType><remainSeatCnt>42</remainSeatCnt><routeId>218000105</routeId><stationId>113000422</stationId><stationSeq>21</stationSeq></busLocationList></msgBody></response>\n"
          ]
        }
      ],
      "source": [
        "import requests\n",
        "url='http://apis.data.go.kr/6410000/buslocationservice/getBusLocationList?serviceKey=NX27TU912%2Fk4aFeGKJQINXcHGyNZshD62H2jo4IFcYfIbkpKf%2B4XR3yX6t7YMzVjmlg0gzJyTTKR2K1YN5cLpw%3D%3D&routeId=218000105'\n",
        "#url='http://openapi.gbis.go.kr/ws/rest/buslocationservice?serviceKey=1234567890&routeId=218000105'\n",
        "r = requests.get(url)\n",
        "print(r.text)"
      ]
    },
    {
      "cell_type": "code",
      "source": [
        "from bs4 import BeautifulSoup\n",
        "\n",
        "soup = BeautifulSoup(r.text, features=\"xml\")"
      ],
      "metadata": {
        "id": "39x6MybEkNhg"
      },
      "execution_count": null,
      "outputs": []
    },
    {
      "cell_type": "code",
      "source": [
        "soup.find_all('stationId')"
      ],
      "metadata": {
        "id": "nf1r2lkCkg4e",
        "outputId": "33e1787b-c67c-4a51-862c-21ef56224bf9",
        "colab": {
          "base_uri": "https://localhost:8080/"
        }
      },
      "execution_count": null,
      "outputs": [
        {
          "output_type": "execute_result",
          "data": {
            "text/plain": [
              "[<stationId>219000124</stationId>,\n",
              " <stationId>277103428</stationId>,\n",
              " <stationId>113000199</stationId>,\n",
              " <stationId>219000193</stationId>,\n",
              " <stationId>113000416</stationId>,\n",
              " <stationId>277103461</stationId>,\n",
              " <stationId>219000667</stationId>,\n",
              " <stationId>113000422</stationId>]"
            ]
          },
          "metadata": {},
          "execution_count": 6
        }
      ]
    }
  ]
}