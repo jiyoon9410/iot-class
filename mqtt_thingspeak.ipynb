{
  "nbformat": 4,
  "nbformat_minor": 0,
  "metadata": {
    "colab": {
      "provenance": [],
      "authorship_tag": "ABX9TyPC1IbuzgiH4k4TFo+DejCg",
      "include_colab_link": true
    },
    "kernelspec": {
      "name": "python3",
      "display_name": "Python 3"
    },
    "language_info": {
      "name": "python"
    }
  },
  "cells": [
    {
      "cell_type": "markdown",
      "metadata": {
        "id": "view-in-github",
        "colab_type": "text"
      },
      "source": [
        "<a href=\"https://colab.research.google.com/github/jiyoon9410/iot-class/blob/main/mqtt_thingspeak.ipynb\" target=\"_parent\"><img src=\"https://colab.research.google.com/assets/colab-badge.svg\" alt=\"Open In Colab\"/></a>"
      ]
    },
    {
      "cell_type": "code",
      "execution_count": 1,
      "metadata": {
        "colab": {
          "base_uri": "https://localhost:8080/"
        },
        "id": "5RAdNgdsDQ6h",
        "outputId": "6e379ed8-b308-4dfa-a852-04e7313393de"
      },
      "outputs": [
        {
          "output_type": "stream",
          "name": "stdout",
          "text": [
            "Collecting paho-mqtt\n",
            "  Downloading paho_mqtt-2.0.0-py3-none-any.whl (66 kB)\n",
            "\u001b[?25l     \u001b[90m━━━━━━━━━━━━━━━━━━━━━━━━━━━━━━━━━━━━━━━━\u001b[0m \u001b[32m0.0/66.9 kB\u001b[0m \u001b[31m?\u001b[0m eta \u001b[36m-:--:--\u001b[0m\r\u001b[2K     \u001b[91m━━━━━━━━━━━━━━━━━━\u001b[0m\u001b[90m╺\u001b[0m\u001b[90m━━━━━━━━━━━━━━━━━━━━━\u001b[0m \u001b[32m30.7/66.9 kB\u001b[0m \u001b[31m788.8 kB/s\u001b[0m eta \u001b[36m0:00:01\u001b[0m\r\u001b[2K     \u001b[90m━━━━━━━━━━━━━━━━━━━━━━━━━━━━━━━━━━━━━━━━\u001b[0m \u001b[32m66.9/66.9 kB\u001b[0m \u001b[31m943.0 kB/s\u001b[0m eta \u001b[36m0:00:00\u001b[0m\n",
            "\u001b[?25hInstalling collected packages: paho-mqtt\n",
            "Successfully installed paho-mqtt-2.0.0\n"
          ]
        }
      ],
      "source": [
        "!pip install paho-mqtt"
      ]
    },
    {
      "cell_type": "code",
      "source": [
        "import json\n",
        "import requests\n",
        "n=0\n",
        "\n",
        "def doit(topic, payload):\n",
        "  global n\n",
        "  print(topic, payload)\n",
        "  j=json.loads(payload)\n",
        "  #print(j['co2'])\n",
        "  url='https://api.thingspeak.com/update?api_key=3Q6HVSY9S60P06I4'\n",
        "  url +='&field1='+j['co2']\n",
        "  url +='&field2='+j['bme680'].split(',')[0]\n",
        "  if n>15:\n",
        "    r=requests.get(url)\n",
        "    print(url, r.text)\n",
        "    n=0\n",
        "  n+=1"
      ],
      "metadata": {
        "id": "GJvADxzyDydS"
      },
      "execution_count": 3,
      "outputs": []
    },
    {
      "cell_type": "code",
      "source": [
        "import paho.mqtt.client as mqtt\n",
        "\n",
        "def on_connect(client, userdata, flags, reason_code, properties):\n",
        "    print(f\"Connected with result code {reason_code}\")\n",
        "    client.subscribe(\"connectware/indoor/data/1501\")\n",
        "\n",
        "def on_message(client, userdata, msg):\n",
        "    doit(msg.topic, msg.payload.decode('utf8'))\n",
        "\n",
        "client = mqtt.Client(mqtt.CallbackAPIVersion.VERSION2)\n",
        "client.on_connect = on_connect\n",
        "client.on_message = on_message\n",
        "\n",
        "client.connect(\"damoa.io\", 1883, 60)\n",
        "client.loop_forever()"
      ],
      "metadata": {
        "colab": {
          "base_uri": "https://localhost:8080/"
        },
        "id": "cpXnf5QQEngR",
        "outputId": "1a2a3c70-4b6f-494a-aa44-c8a66491f902"
      },
      "execution_count": null,
      "outputs": [
        {
          "output_type": "stream",
          "name": "stdout",
          "text": [
            "Connected with result code Success\n",
            "connectware/indoor/data/1501 {\"dust\":\"30,32\",\"co2\":\"431\",\"bme680\":\"22.10,20.69,807322,100988,28.10\",\"time\":\"2024-04-07 23:59:58\", \"serial\":290051, \"ip\":\"203.255.190.49\"}\n",
            "connectware/indoor/data/1501 {\"dust\":\"30,32\",\"co2\":\"431\",\"bme680\":\"22.10,20.69,805871,100987,28.18\",\"time\":\"2024-04-07 23:59:59\", \"serial\":290052, \"ip\":\"203.255.190.49\"}\n",
            "connectware/indoor/data/1501 {\"dust\":\"30,31\",\"co2\":\"431\",\"bme680\":\"22.10,20.69,802985,100987,28.10\",\"time\":\"2024-04-08 00:00:00\", \"serial\":290053, \"ip\":\"203.255.190.49\"}\n",
            "connectware/indoor/data/1501 {\"dust\":\"30,31\",\"co2\":\"431\",\"bme680\":\"22.10,20.69,804907,100987,28.10\",\"time\":\"2024-04-08 00:00:01\", \"serial\":290054, \"ip\":\"203.255.190.49\"}\n",
            "connectware/indoor/data/1501 {\"dust\":\"29,31\",\"co2\":\"431\",\"bme680\":\"22.11,20.69,803945,100988,28.18\",\"time\":\"2024-04-08 00:00:02\", \"serial\":290055, \"ip\":\"203.255.190.49\"}\n",
            "connectware/indoor/data/1501 {\"dust\":\"29,31\",\"co2\":\"431\",\"bme680\":\"22.11,20.69,800118,100987,28.18\",\"time\":\"2024-04-08 00:00:03\", \"serial\":290056, \"ip\":\"203.255.190.49\"}\n",
            "connectware/indoor/data/1501 {\"dust\":\"26,27\",\"co2\":\"431\",\"bme680\":\"22.11,20.69,802027,100988,28.18\",\"time\":\"2024-04-08 00:00:04\", \"serial\":290057, \"ip\":\"203.255.190.49\"}\n",
            "connectware/indoor/data/1501 {\"dust\":\"26,26\",\"co2\":\"431\",\"bme680\":\"22.11,20.69,806838,100987,28.18\",\"time\":\"2024-04-08 00:00:05\", \"serial\":290058, \"ip\":\"203.255.190.49\"}\n",
            "connectware/indoor/data/1501 {\"dust\":\"26,26\",\"co2\":\"431\",\"bme680\":\"22.11,20.69,806838,100988,28.10\",\"time\":\"2024-04-08 00:00:06\", \"serial\":290059, \"ip\":\"203.255.190.49\"}\n",
            "connectware/indoor/data/1501 {\"dust\":\"26,26\",\"co2\":\"431\",\"bme680\":\"22.11,20.68,802506,100987,28.10\",\"time\":\"2024-04-08 00:00:07\", \"serial\":290060, \"ip\":\"203.255.190.49\"}\n",
            "connectware/indoor/data/1501 {\"dust\":\"26,26\",\"co2\":\"431\",\"bme680\":\"22.11,20.69,802506,100988,28.10\",\"time\":\"2024-04-08 00:00:08\", \"serial\":290061, \"ip\":\"203.255.190.49\"}\n",
            "connectware/indoor/data/1501 {\"dust\":\"25,25\",\"co2\":\"432\",\"bme680\":\"22.11,20.68,804907,100988,28.10\",\"time\":\"2024-04-08 00:00:09\", \"serial\":290062, \"ip\":\"203.255.190.49\"}\n",
            "connectware/indoor/data/1501 {\"dust\":\"25,25\",\"co2\":\"432\",\"bme680\":\"22.11,20.69,802506,100988,28.10\",\"time\":\"2024-04-08 00:00:10\", \"serial\":290063, \"ip\":\"203.255.190.49\"}\n",
            "connectware/indoor/data/1501 {\"dust\":\"25,25\",\"co2\":\"432\",\"bme680\":\"22.10,20.69,805871,100987,28.10\",\"time\":\"2024-04-08 00:00:11\", \"serial\":290064, \"ip\":\"203.255.190.49\"}\n",
            "connectware/indoor/data/1501 {\"dust\":\"27,27\",\"co2\":\"432\",\"bme680\":\"22.10,20.68,809265,100987,28.10\",\"time\":\"2024-04-08 00:00:12\", \"serial\":290065, \"ip\":\"203.255.190.49\"}\n",
            "connectware/indoor/data/1501 {\"dust\":\"27,27\",\"co2\":\"432\",\"bme680\":\"22.10,20.69,809753,100987,28.10\",\"time\":\"2024-04-08 00:00:13\", \"serial\":290066, \"ip\":\"203.255.190.49\"}\n",
            "connectware/indoor/data/1501 {\"dust\":\"28,28\",\"co2\":\"433\",\"bme680\":\"22.10,20.69,804907,100987,28.18\",\"time\":\"2024-04-08 00:00:14\", \"serial\":290067, \"ip\":\"203.255.190.49\"}\n",
            "https://api.thingspeak.com/update?api_key=3Q6HVSY9S60P06I4&field1=433&field2=22.10 26\n",
            "connectware/indoor/data/1501 {\"dust\":\"27,27\",\"co2\":\"433\",\"bme680\":\"22.10,20.69,805871,100987,28.18\",\"time\":\"2024-04-08 00:00:15\", \"serial\":290068, \"ip\":\"203.255.190.49\"}\n",
            "connectware/indoor/data/1501 {\"dust\":\"28,28\",\"co2\":\"433\",\"bme680\":\"22.10,20.69,806354,100987,28.18\",\"time\":\"2024-04-08 00:00:16\", \"serial\":290069, \"ip\":\"203.255.190.49\"}\n",
            "connectware/indoor/data/1501 {\"dust\":\"28,28\",\"co2\":\"433\",\"bme680\":\"22.10,20.69,802506,100987,28.10\",\"time\":\"2024-04-08 00:00:17\", \"serial\":290070, \"ip\":\"203.255.190.49\"}\n",
            "connectware/indoor/data/1501 {\"dust\":\"30,30\",\"co2\":\"433\",\"bme680\":\"22.10,20.69,802985,100987,28.18\",\"time\":\"2024-04-08 00:00:18\", \"serial\":290071, \"ip\":\"203.255.190.49\"}\n",
            "connectware/indoor/data/1501 {\"dust\":\"30,31\",\"co2\":\"435\",\"bme680\":\"22.10,20.69,803464,100986,28.26\",\"time\":\"2024-04-08 00:00:19\", \"serial\":290072, \"ip\":\"203.255.190.49\"}\n",
            "connectware/indoor/data/1501 {\"dust\":\"30,32\",\"co2\":\"435\",\"bme680\":\"22.10,20.69,807807,100986,28.26\",\"time\":\"2024-04-08 00:00:20\", \"serial\":290073, \"ip\":\"203.255.190.49\"}\n",
            "connectware/indoor/data/1501 {\"dust\":\"30,31\",\"co2\":\"435\",\"bme680\":\"22.10,20.69,805389,100986,28.18\",\"time\":\"2024-04-08 00:00:21\", \"serial\":290074, \"ip\":\"203.255.190.49\"}\n",
            "connectware/indoor/data/1501 {\"dust\":\"31,32\",\"co2\":\"435\",\"bme680\":\"22.10,20.69,802985,100987,28.18\",\"time\":\"2024-04-08 00:00:22\", \"serial\":290075, \"ip\":\"203.255.190.49\"}\n",
            "connectware/indoor/data/1501 {\"dust\":\"31,32\",\"co2\":\"435\",\"bme680\":\"22.10,20.69,809265,100987,28.18\",\"time\":\"2024-04-08 00:00:23\", \"serial\":290076, \"ip\":\"203.255.190.49\"}\n",
            "connectware/indoor/data/1501 {\"dust\":\"31,32\",\"co2\":\"436\",\"bme680\":\"22.10,20.70,805871,100987,28.18\",\"time\":\"2024-04-08 00:00:24\", \"serial\":290077, \"ip\":\"203.255.190.49\"}\n",
            "connectware/indoor/data/1501 {\"dust\":\"32,34\",\"co2\":\"436\",\"bme680\":\"22.10,20.69,802506,100987,28.18\",\"time\":\"2024-04-08 00:00:25\", \"serial\":290078, \"ip\":\"203.255.190.49\"}\n",
            "connectware/indoor/data/1501 {\"dust\":\"33,35\",\"co2\":\"436\",\"bme680\":\"22.10,20.70,799168,100988,28.10\",\"time\":\"2024-04-08 00:00:26\", \"serial\":290079, \"ip\":\"203.255.190.49\"}\n",
            "connectware/indoor/data/1501 {\"dust\":\"33,35\",\"co2\":\"436\",\"bme680\":\"22.11,20.70,803945,100988,28.01\",\"time\":\"2024-04-08 00:00:27\", \"serial\":290080, \"ip\":\"203.255.190.49\"}\n",
            "connectware/indoor/data/1501 {\"dust\":\"32,35\",\"co2\":\"436\",\"bme680\":\"22.11,20.70,809753,100988,28.01\",\"time\":\"2024-04-08 00:00:28\", \"serial\":290081, \"ip\":\"203.255.190.49\"}\n",
            "connectware/indoor/data/1501 {\"dust\":\"32,35\",\"co2\":\"436\",\"bme680\":\"22.11,20.70,804425,100987,28.10\",\"time\":\"2024-04-08 00:00:29\", \"serial\":290082, \"ip\":\"203.255.190.49\"}\n",
            "connectware/indoor/data/1501 {\"dust\":\"32,36\",\"co2\":\"436\",\"bme680\":\"22.11,20.69,808779,100988,28.10\",\"time\":\"2024-04-08 00:00:30\", \"serial\":290083, \"ip\":\"203.255.190.49\"}\n",
            "https://api.thingspeak.com/update?api_key=3Q6HVSY9S60P06I4&field1=436&field2=22.11 27\n",
            "connectware/indoor/data/1501 {\"dust\":\"31,35\",\"co2\":\"436\",\"bme680\":\"22.11,20.69,802985,100988,28.10\",\"time\":\"2024-04-08 00:00:31\", \"serial\":290084, \"ip\":\"203.255.190.49\"}\n",
            "connectware/indoor/data/1501 {\"dust\":\"31,34\",\"co2\":\"436\",\"bme680\":\"22.11,20.70,805389,100988,28.10\",\"time\":\"2024-04-08 00:00:32\", \"serial\":290085, \"ip\":\"203.255.190.49\"}\n"
          ]
        }
      ]
    }
  ]
}